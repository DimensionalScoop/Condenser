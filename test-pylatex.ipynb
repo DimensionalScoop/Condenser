{
 "cells": [
  {
   "cell_type": "code",
   "execution_count": 30,
   "metadata": {},
   "outputs": [],
   "source": [
    "from pylatex import Document, Section, Subsection, Command\n",
    "from pylatex.utils import italic, NoEscape\n",
    "\n",
    "\n",
    "def fill_document(doc):\n",
    "    \"\"\"Add a section, a subsection and some text to the document.\n",
    "\n",
    "    :param doc: the document\n",
    "    :type doc: :class:`pylatex.document.Document` instance\n",
    "    \"\"\"\n",
    "    with doc.create(Section('A section')):\n",
    "        doc.append('Some regular text and $\\\\nu$ some ')\n",
    "        doc.append(italic('italic text. '))\n",
    "\n",
    "        with doc.create(Subsection('A subsection')):\n",
    "            doc.append('Also some crazy characters: ä ν η → $\\\\nu$ $&#{}')\n",
    "\n",
    "\n",
    "\n",
    "doc = Document(default_filepath='tex/')\n",
    "doc.\n",
    "fill_document(doc)\n",
    "\n",
    "doc.generate_pdf(compiler=\"xelatex\", clean_tex=False)\n",
    "doc.generate_tex()"
   ]
  },
  {
   "cell_type": "code",
   "execution_count": 31,
   "metadata": {},
   "outputs": [
    {
     "data": {
      "text/plain": [
       "{'default_filepath': 'tex/',\n",
       " 'documentclass': Command('documentclass', Arguments('article'), Options()),\n",
       " '_fontenc': 'T1',\n",
       " '_inputenc': 'utf8',\n",
       " '_lmodern': True,\n",
       " '_indent': True,\n",
       " '_microtype': False,\n",
       " 'options': None,\n",
       " 'arguments': None,\n",
       " 'start_arguments': None,\n",
       " 'data': [Command('normalsize', Arguments(), Options()),\n",
       "  Section('A section', True, ['Some regular text and $\\\\nu$ some ', NoEscape(\\textit{italic text. }), Subsection('A subsection', True, ['Also some crazy characters: ä ν η → $\\\\nu$ $&#{}'])])],\n",
       " 'real_data': [Command('normalsize', Arguments(), Options()),\n",
       "  Section('A section', True, ['Some regular text and $\\\\nu$ some ', NoEscape(\\textit{italic text. }), Subsection('A subsection', True, ['Also some crazy characters: ä ν η → $\\\\nu$ $&#{}'])])],\n",
       " 'packages': OrderedSet([Package(Arguments('fontenc'), Options('T1')), Package(Arguments('inputenc'), Options('utf8')), Package(Arguments('lmodern'), Options()), Package(Arguments('textcomp'), Options()), Package(Arguments('lastpage'), Options())]),\n",
       " '_latex_name': 'document',\n",
       " 'variables': [],\n",
       " 'preamble': [],\n",
       " 'color': False,\n",
       " 'meta_data': False}"
      ]
     },
     "execution_count": 31,
     "metadata": {},
     "output_type": "execute_result"
    }
   ],
   "source": [
    "doc.__dict__"
   ]
  },
  {
   "cell_type": "code",
   "execution_count": null,
   "metadata": {},
   "outputs": [],
   "source": [
    "     Document with `\\maketitle` command activated\n",
    "    doc = Document(documentclass='beamer',default_filepath='tex/')\n",
    "\n",
    "    doc.preamble.append(Command('title', 'Awesome Title'))\n",
    "    doc.preamble.append(Command('author', 'Anonymous author'))\n",
    "    doc.preamble.append(Command('date', NoEscape(r'\\today')))\n",
    "    doc.append(NoEscape(r'\\maketitle'))\n",
    "\n",
    "    fill_document(doc)\n",
    "\n",
    "    doc.generate_pdf('basic_maketitle', clean_tex=False)\n",
    "\n",
    "    # Add stuff to the document\n",
    "    with doc.create(Section('A second section')):\n",
    "        doc.append('Some text.')\n",
    "\n",
    "    doc.generate_pdf('basic_maketitle2', clean_tex=False)\n",
    "    tex = doc.dumps()  # The document as string in LaTeX syntax"
   ]
  },
  {
   "cell_type": "code",
   "execution_count": null,
   "metadata": {},
   "outputs": [],
   "source": []
  }
 ],
 "metadata": {
  "kernelspec": {
   "display_name": "Python 3",
   "language": "python",
   "name": "python3"
  },
  "language_info": {
   "codemirror_mode": {
    "name": "ipython",
    "version": 3
   },
   "file_extension": ".py",
   "mimetype": "text/x-python",
   "name": "python",
   "nbconvert_exporter": "python",
   "pygments_lexer": "ipython3",
   "version": "3.7.2"
  }
 },
 "nbformat": 4,
 "nbformat_minor": 2
}
