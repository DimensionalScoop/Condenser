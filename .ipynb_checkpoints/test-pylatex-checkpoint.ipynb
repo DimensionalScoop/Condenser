{
 "cells": [
  {
   "cell_type": "code",
   "execution_count": 25,
   "metadata": {},
   "outputs": [],
   "source": [
    "from pylatex import Document, Section, Subsection, Command\n",
    "from pylatex.utils import italic, NoEscape\n",
    "\n",
    "\n",
    "def fill_document(doc):\n",
    "    \"\"\"Add a section, a subsection and some text to the document.\n",
    "\n",
    "    :param doc: the document\n",
    "    :type doc: :class:`pylatex.document.Document` instance\n",
    "    \"\"\"\n",
    "    with doc.create(Section('A section')):\n",
    "        doc.append('Some regular text and $\\\\nu$ some ')\n",
    "        doc.append(italic('italic text. '))\n",
    "\n",
    "        with doc.create(Subsection('A subsection')):\n",
    "            doc.append('Also some crazy characters: ν η → $\\\\nu$ $&#{}')\n",
    "\n",
    "\n",
    "if __name__ == '__main__':\n",
    "    # Basic document\n",
    "    doc = Document(default_filepath='tex/')\n",
    "    fill_document(doc)\n",
    "\n",
    "    doc.generate_pdf(compiler=\"xelatex\", clean_tex=False)\n",
    "    doc.generate_tex()\n",
    "\n",
    "    #"
   ]
  },
  {
   "cell_type": "code",
   "execution_count": null,
   "metadata": {},
   "outputs": [],
   "source": [
    "     Document with `\\maketitle` command activated\n",
    "    doc = Document(documentclass='beamer',default_filepath='tex/')\n",
    "\n",
    "    doc.preamble.append(Command('title', 'Awesome Title'))\n",
    "    doc.preamble.append(Command('author', 'Anonymous author'))\n",
    "    doc.preamble.append(Command('date', NoEscape(r'\\today')))\n",
    "    doc.append(NoEscape(r'\\maketitle'))\n",
    "\n",
    "    fill_document(doc)\n",
    "\n",
    "    doc.generate_pdf('basic_maketitle', clean_tex=False)\n",
    "\n",
    "    # Add stuff to the document\n",
    "    with doc.create(Section('A second section')):\n",
    "        doc.append('Some text.')\n",
    "\n",
    "    doc.generate_pdf('basic_maketitle2', clean_tex=False)\n",
    "    tex = doc.dumps()  # The document as string in LaTeX syntax"
   ]
  },
  {
   "cell_type": "code",
   "execution_count": null,
   "metadata": {},
   "outputs": [],
   "source": []
  }
 ],
 "metadata": {
  "kernelspec": {
   "display_name": "Python 3",
   "language": "python",
   "name": "python3"
  },
  "language_info": {
   "codemirror_mode": {
    "name": "ipython",
    "version": 3
   },
   "file_extension": ".py",
   "mimetype": "text/x-python",
   "name": "python",
   "nbconvert_exporter": "python",
   "pygments_lexer": "ipython3",
   "version": "3.7.2"
  }
 },
 "nbformat": 4,
 "nbformat_minor": 2
}
